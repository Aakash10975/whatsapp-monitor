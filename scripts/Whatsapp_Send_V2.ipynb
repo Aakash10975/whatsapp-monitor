{
 "cells" : [
  {
   "cell_type": "code",
   "execution_count": 1,
   "metadata": {},
   "outputs": [
    {
     "name": "stderr",
     "output_type": "stream",
     "text": [
      "/Users/aakash10975/Library/Python/2.7/lib/python/site-packages/ipykernel_launcher.py:11: DeprecationWarning: use options instead of chrome_options\n",
      "  # This is added back by InteractiveShellApp.init_path()\n"
     ]
    }
   ],
   "source": [
    "from selenium import webdriver\n",
    "from selenium.webdriver.support.ui import WebDriverWait\n",
    "from selenium.webdriver.support import expected_conditions as EC\n",
    "from selenium.webdriver.common.keys import Keys\n",
    "from selenium.webdriver.common.by import By\n",
    "from selenium.webdriver.common.desired_capabilities import DesiredCapabilities\n",
    "import time,os,traceback,sys\n",
    "from selenium.common.exceptions import NoSuchElementException, ElementClickInterceptedException, TimeoutException\n",
    "import threading\n",
    "def createDriver():\n",
    "    botdriver = webdriver.Chrome(executable_path=\"/Users/aakash10975/chromedriver\", chrome_options=options)\n",
    "    botdriver.get(\"https://web.whatsapp.com/\")\n",
    "    time.sleep(5)\n",
    "    return botdriver\n",
    "options = webdriver.ChromeOptions()\n",
    "options.add_argument(\"user-data-dir=/Users/aakash10975/Memory/WebWhatsAppBot\")\n",
    "driver=createDriver()\n",
    "global statusList \n",
    "statusList = {}"
   ]
  },
  {
   "cell_type": "markdown",
   "metadata": {},
   "source": [
    "# Initializing"
   ]
  },
  {
   "cell_type": "code",
   "execution_count": null,
   "metadata": {},
   "outputs": [],
   "source": [
    "def convert(seconds): \n",
    "    seconds = seconds % (24 * 3600) \n",
    "    hour = seconds // 3600\n",
    "    seconds %= 3600\n",
    "    minutes = seconds // 60\n",
    "    seconds %= 60\n",
    "    return \"%d:%02d:%02d\" % (hour, minutes, seconds) \n",
    "\n",
    "TARGETLIST = ['Friend1',\"Friend2\"]\n",
    "mynumber=\"+91 xxxx xxxxxx\" \n",
    "import datetime\n",
    "def formatDt(ts=time.time()):\n",
    "    st = datetime.datetime.fromtimestamp(ts).strftime('%Y-%m-%d %H:%M:%S')\n",
    "    return st\n",
    "\n",
    "def sendNotification(botdriver,message):\n",
    "    print(\"Inside send notification function for {}\".format(\"Person\"))\n",
    "    try:\n",
    "        time.sleep(4)\n",
    "        user = botdriver.find_element_by_xpath('//span[@title = \"{}\"]'.format(mynumber))\n",
    "        time.sleep(1)\n",
    "        user.click()\n",
    "        time.sleep(2)\n",
    "        msg_box = botdriver.find_element_by_class_name('_1Plpp')\n",
    "        msg_box.send_keys(\"{}\".format(message))\n",
    "        button=botdriver.find_element_by_class_name('_35EW6')\n",
    "        button.click()\n",
    "        return 1\n",
    "    except NoSuchElementException:\n",
    "        print(\"inside exception \", traceback.print_exc())\n",
    "        #return sendNotification(botdriver,message)\n",
    "    except RuntimeError:\n",
    "        return 1\n",
    "    except ElementClickInterceptedException:\n",
    "        print(\"ElementClickInterceptedException occured.....Retrying\", traceback.print_exc())\n",
    "        return sendNotification(botdriver,message)\n",
    "    except TimeoutException:\n",
    "        return sendNotification(botdriver,message)\n",
    "statusList={}\n",
    "session = []\n",
    "for elem in TARGETLIST:\n",
    "    statusList[elem] = [\"Unavailable\",time.time()]\n",
    "print(statusList)\n",
    "print session\n",
    "\n",
    "#testing sendNotification function\n",
    "# sendNotification(driver,\"testing the function\")\n"
   ]
  },
  {
   "cell_type": "code",
   "execution_count": null,
   "metadata": {},
   "outputs": [],
   "source": []
  },
  {
   "cell_type": "code",
   "execution_count": null,
   "metadata": {},
   "outputs": [],
   "source": [
    "import sys\n",
    "\n",
    "def network_call():\n",
    "    sleep_secs = 5\n",
    "    while True:\n",
    "        for TARGET in TARGETLIST:\n",
    "            try:\n",
    "                msg_box = driver.find_element_by_xpath(\"//div[@class='_2S1VP copyable-text selectable-text']\")\n",
    "                msg_box.send_keys(TARGET)\n",
    "                msg_box.send_keys(\"\\n\")\n",
    "                time.sleep(3)\n",
    "                online = str(driver.find_element_by_class_name('_3sgkv').text.encode('ascii', 'ignore').decode('ascii'))\n",
    "                # Session is active now\n",
    "                if statusList[TARGET][0] != online:   #if session is inactive, mark as active\n",
    "                    statusList[TARGET][0]=\"online\"\n",
    "                    statusList[TARGET][1]=time.time()\n",
    "    #                 sendNotification(driver,\"{} is online\".format(TARGET))\n",
    "                    sleep_secs=1\n",
    "                #session is inactive now\n",
    "                elif statusList[TARGET][0] == online: #if session is active, do nothing\n",
    "                    print(\"Session still Active for {}\".format(TARGET))\n",
    "                    print(\"Previous status: {}\".format(statusList[TARGET][0]))\n",
    "                    pass\n",
    "                #unreachable code\n",
    "                else:\n",
    "                    print(\"Non reachable code printed.\")\n",
    "                    print(\"Status: {}, statusList[TARGET][0]: {}\".format(status, statusList[TARGET][0]))\n",
    "            except NoSuchElementException:\n",
    "                #session in unavailable\n",
    "                online = \"Unavailable\"\n",
    "                if statusList[TARGET][0] != online:  #if session is active, mark it as inactive \\\n",
    "                                                     # and notify over whatsapp or on file\n",
    "                    statusList[TARGET][0] = \"Unavailable\"\n",
    "    #                 session.append({TARGET:\n",
    "    #                                 {\"start\":formatDt(), \"end\":formatDt(statusList[TARGET][1]), \"duration\":convert(time.time()-statusList[TARGET][1])}\n",
    "    #                                })\n",
    "                    end_time = time.time()\n",
    "                    session = {TARGET:\n",
    "                                    {\"end\":formatDt(end_time), \"start\":formatDt(statusList[TARGET][1]), \"duration\":convert(time.time()-statusList[TARGET][1])}\n",
    "                                   }\n",
    "                    f=open(\"./status.txt\",\"a\")\n",
    "                    f.write(str(session))\n",
    "                    f.write(\"\\n\")\n",
    "                    f.close()\n",
    "                    sendNotification(driver,str(session))\n",
    "                    statusList[TARGET][1] = end_time\n",
    "                    sleep_secs = 5\n",
    "                else:   #if session is inactive, leave as is i.e, inactive\n",
    "                    sys.stdout.write('\\r'+str(TARGET)+str(online))\n",
    "                    sys.stdout.flush()\n",
    "                    pass\n",
    "        time.sleep(sleep_secs)\n",
    "        print(\"******completed an iteration*******\")\n",
    "        sys.stdout.write('\\r'+\"******completed an iteration*******\")\n",
    "    \n",
    "\n",
    "threading.Thread(target=network_call).start()\n"
   ]
  },
  {
   "cell_type": "code",
   "execution_count": null,
   "metadata": {},
   "outputs": [],
   "source": [
    "statusList"
   ]
  },
  {
   "cell_type": "code",
   "execution_count": null,
   "metadata": {},
   "outputs": [],
   "source": [
    "session"
   ]
  }
 ],
 "metadata": {
  "kernelspec": {
   "display_name": "Python 2",
   "language": "python",
   "name": "python2"
  },
  "language_info": {
   "codemirror_mode": {
    "name": "ipython",
    "version": 2
   },
   "file_extension": ".py",
   "mimetype": "text/x-python",
   "name": "python",
   "nbconvert_exporter": "python",
   "pygments_lexer": "ipython2",
   "version": "2.7.16"
  }
 },
 "nbformat": 4,
 "nbformat_minor": 2
}
